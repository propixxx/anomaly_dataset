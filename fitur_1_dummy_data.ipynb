{
  "nbformat": 4,
  "nbformat_minor": 0,
  "metadata": {
    "colab": {
      "provenance": []
    },
    "kernelspec": {
      "name": "python3",
      "display_name": "Python 3"
    },
    "language_info": {
      "name": "python"
    }
  },
  "cells": [
    {
      "cell_type": "code",
      "source": [
        "!pip install faker"
      ],
      "metadata": {
        "colab": {
          "base_uri": "https://localhost:8080/"
        },
        "id": "u8GAJ5SlmXTq",
        "outputId": "0c89c7d1-39fc-4f74-df59-005f5fc812b5"
      },
      "execution_count": 1,
      "outputs": [
        {
          "output_type": "stream",
          "name": "stdout",
          "text": [
            "Collecting faker\n",
            "  Downloading faker-37.0.2-py3-none-any.whl.metadata (15 kB)\n",
            "Requirement already satisfied: tzdata in /usr/local/lib/python3.11/dist-packages (from faker) (2025.1)\n",
            "Downloading faker-37.0.2-py3-none-any.whl (1.9 MB)\n",
            "\u001b[2K   \u001b[90m━━━━━━━━━━━━━━━━━━━━━━━━━━━━━━━━━━━━━━━━\u001b[0m \u001b[32m1.9/1.9 MB\u001b[0m \u001b[31m23.1 MB/s\u001b[0m eta \u001b[36m0:00:00\u001b[0m\n",
            "\u001b[?25hInstalling collected packages: faker\n",
            "Successfully installed faker-37.0.2\n"
          ]
        }
      ]
    },
    {
      "cell_type": "code",
      "execution_count": 5,
      "metadata": {
        "colab": {
          "base_uri": "https://localhost:8080/"
        },
        "id": "wnxXoG_Zkpbg",
        "outputId": "f6401f4a-0b85-4ae2-c535-03be4f9a23b6"
      },
      "outputs": [
        {
          "output_type": "stream",
          "name": "stdout",
          "text": [
            "    Kategori       Harga   LT   LB               Sertifikat\n",
            "0      Rumah  2019600000  283  278  Hak Guna Bangunan (HGB)\n",
            "1     Gedung   907200000   58   50  Hak Guna Bangunan (HGB)\n",
            "2  Apartemen   822000000    0  137  Hak Guna Bangunan (HGB)\n",
            "3       Kost   789600000  122   66                  Lainnya\n",
            "4  Apartemen   408000000    0   68                  Lainnya\n"
          ]
        }
      ],
      "source": [
        "import random\n",
        "import pandas as pd\n",
        "from faker import Faker\n",
        "\n",
        "fake = Faker()\n",
        "\n",
        "# Pilihan kategori properti\n",
        "kategori_properti = [\"Rumah\", \"Apartemen\", \"Ruko\", \"Kost\", \"Gedung\"]\n",
        "# status_properti = [\"Jual\"]\n",
        "jenis_sertifikat = [\"Hak Milik (HM)\", \"Hak Guna Bangunan (HGB)\", \"Lainnya\"]\n",
        "\n",
        "# Fungsi untuk menentukan harga berdasarkan kategori dan status\n",
        "# def generate_harga(kategori, status, luas_tanah, luas_bangunan):\n",
        "def generate_harga(kategori, luas_tanah, luas_bangunan):\n",
        "    base_price = {\n",
        "        \"Rumah\": 3000000,  # per m2\n",
        "        \"Apartemen\": 5000000,  # per m2\n",
        "        \"Ruko\": 4000000,  # per m2\n",
        "        \"Kost\": 3500000,  # per m2\n",
        "        \"Gedung\": 7000000,  # per m2\n",
        "    }\n",
        "\n",
        "    # multiplier = 1.2 if status == \"Jual\" else 0.005  # Harga jual lebih tinggi, sewa lebih rendah per bulan\n",
        "    multiplier = 1.2\n",
        "    return int((luas_tanah + luas_bangunan) * base_price[kategori] * multiplier)\n",
        "\n",
        "# Generate dummy data\n",
        "num_samples = 1000\n",
        "\n",
        "data = []\n",
        "for _ in range(num_samples):\n",
        "    kategori = random.choice(kategori_properti)\n",
        "    # status = random.choice(status_properti)\n",
        "    luas_tanah = random.randint(50, 500) if kategori != \"Apartemen\" else 0  # Apartemen tidak punya luas tanah\n",
        "    luas_bangunan = random.randint(30, luas_tanah if luas_tanah > 0 else 200)  # Tidak lebih dari luas tanah\n",
        "    sertifikat = random.choice(jenis_sertifikat)\n",
        "    # harga = generate_harga(kategori, status, luas_tanah, luas_bangunan)\n",
        "    harga = generate_harga(kategori, luas_tanah, luas_bangunan)\n",
        "\n",
        "    # data.append([kategori, status, harga, luas_tanah, luas_bangunan, sertifikat])\n",
        "    data.append([kategori, harga, luas_tanah, luas_bangunan, sertifikat])\n",
        "\n",
        "# Buat DataFrame\n",
        "df = pd.DataFrame(data, columns=[\"Kategori\", \"Harga\", \"LT\", \"LB\", \"Sertifikat\"])\n",
        "\n",
        "# Simpan ke CSV\n",
        "df.to_csv(\"dummy_data_properti.csv\", index=False)\n",
        "print(df.head())\n"
      ]
    }
  ]
}